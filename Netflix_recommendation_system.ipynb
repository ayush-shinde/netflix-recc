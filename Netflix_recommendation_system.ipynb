{
  "nbformat": 4,
  "nbformat_minor": 0,
  "metadata": {
    "kernelspec": {
      "language": "python",
      "display_name": "Python 3",
      "name": "python3"
    },
    "language_info": {
      "name": "python",
      "version": "3.7.10",
      "mimetype": "text/x-python",
      "codemirror_mode": {
        "name": "ipython",
        "version": 3
      },
      "pygments_lexer": "ipython3",
      "nbconvert_exporter": "python",
      "file_extension": ".py"
    },
    "colab": {
      "name": "Netflix-recommendation-system.ipynb",
      "provenance": [],
      "collapsed_sections": [],
      "include_colab_link": true
    }
  },
  "cells": [
    {
      "cell_type": "markdown",
      "metadata": {
        "id": "view-in-github",
        "colab_type": "text"
      },
      "source": [
        "<a href=\"https://colab.research.google.com/github/ayush-shinde/netflix-recc/blob/main/Netflix_recommendation_system.ipynb\" target=\"_parent\"><img src=\"https://colab.research.google.com/assets/colab-badge.svg\" alt=\"Open In Colab\"/></a>"
      ]
    },
    {
      "cell_type": "markdown",
      "metadata": {
        "id": "kCzjHGwLl1Nq"
      },
      "source": [
        "#**NETFLIX MOVIE & TV SHOWS RECOMMENDATION SYSTEM**"
      ]
    },
    {
      "cell_type": "code",
      "metadata": {
        "_uuid": "8f2839f25d086af736a60e9eeb907d3b93b6e0e5",
        "_cell_guid": "b1076dfc-b9ad-4769-8c92-a6c4dae69d19",
        "execution": {
          "iopub.status.busy": "2021-10-21T18:21:43.038341Z",
          "iopub.execute_input": "2021-10-21T18:21:43.038619Z",
          "iopub.status.idle": "2021-10-21T18:21:43.050616Z",
          "shell.execute_reply.started": "2021-10-21T18:21:43.038577Z",
          "shell.execute_reply": "2021-10-21T18:21:43.049717Z"
        },
        "trusted": true,
        "id": "str01mwKNGy9"
      },
      "source": [
        "# This Python 3 environment comes with many helpful analytics libraries installed\n",
        "# It is defined by the kaggle/python Docker image: https://github.com/kaggle/docker-python\n",
        "# For example, here's several helpful packages to load\n",
        "\n",
        "import os\n",
        "for dirname, _, filenames in os.walk('/kaggle/input'):\n",
        "    for filename in filenames:\n",
        "        print(os.path.join(dirname, filename))\n",
        "\n",
        "import numpy as np\n",
        "import pandas as pd\n",
        "import matplotlib.pyplot as plt\n",
        "import seaborn as sns \n",
        "\n",
        "# Input data files are available in the read-only \"../input/\" directory\n",
        "# For example, running this (by clicking run or pressing Shift+Enter) will list all files under the input directory\n",
        "\n",
        "import os\n",
        "for dirname, _, filenames in os.walk('/kaggle/input'):\n",
        "    for filename in filenames:\n",
        "        print(os.path.join(dirname, filename))\n",
        "\n",
        "# You can write up to 20GB to the current directory (/kaggle/working/) that gets preserved as output when you create a version using \"Save & Run All\" \n",
        "# You can also write temporary files to /kaggle/temp/, but they won't be saved outside of the current session"
      ],
      "execution_count": 137,
      "outputs": []
    },
    {
      "cell_type": "code",
      "metadata": {
        "execution": {
          "iopub.status.busy": "2021-10-21T18:21:43.052183Z",
          "iopub.execute_input": "2021-10-21T18:21:43.052409Z",
          "iopub.status.idle": "2021-10-21T18:21:43.139753Z",
          "shell.execute_reply.started": "2021-10-21T18:21:43.052382Z",
          "shell.execute_reply": "2021-10-21T18:21:43.138761Z"
        },
        "trusted": true,
        "colab": {
          "base_uri": "https://localhost:8080/",
          "height": 285
        },
        "id": "V5SnbCTLNGzE",
        "outputId": "18be1edb-39da-4e06-ab53-4b5b36c90ada"
      },
      "source": [
        "netflix= pd.read_csv('netflix_titles.csv')\n",
        "netflix.head()"
      ],
      "execution_count": 138,
      "outputs": [
        {
          "output_type": "execute_result",
          "data": {
            "text/html": [
              "<div>\n",
              "<style scoped>\n",
              "    .dataframe tbody tr th:only-of-type {\n",
              "        vertical-align: middle;\n",
              "    }\n",
              "\n",
              "    .dataframe tbody tr th {\n",
              "        vertical-align: top;\n",
              "    }\n",
              "\n",
              "    .dataframe thead th {\n",
              "        text-align: right;\n",
              "    }\n",
              "</style>\n",
              "<table border=\"1\" class=\"dataframe\">\n",
              "  <thead>\n",
              "    <tr style=\"text-align: right;\">\n",
              "      <th></th>\n",
              "      <th>show_id</th>\n",
              "      <th>type</th>\n",
              "      <th>title</th>\n",
              "      <th>director</th>\n",
              "      <th>cast</th>\n",
              "      <th>country</th>\n",
              "      <th>date_added</th>\n",
              "      <th>release_year</th>\n",
              "      <th>rating</th>\n",
              "      <th>duration</th>\n",
              "      <th>listed_in</th>\n",
              "      <th>description</th>\n",
              "    </tr>\n",
              "  </thead>\n",
              "  <tbody>\n",
              "    <tr>\n",
              "      <th>0</th>\n",
              "      <td>s1</td>\n",
              "      <td>Movie</td>\n",
              "      <td>Dick Johnson Is Dead</td>\n",
              "      <td>Kirsten Johnson</td>\n",
              "      <td>NaN</td>\n",
              "      <td>United States</td>\n",
              "      <td>September 25, 2021</td>\n",
              "      <td>2020</td>\n",
              "      <td>PG-13</td>\n",
              "      <td>90 min</td>\n",
              "      <td>Documentaries</td>\n",
              "      <td>As her father nears the end of his life, filmm...</td>\n",
              "    </tr>\n",
              "    <tr>\n",
              "      <th>1</th>\n",
              "      <td>s2</td>\n",
              "      <td>TV Show</td>\n",
              "      <td>Blood &amp; Water</td>\n",
              "      <td>NaN</td>\n",
              "      <td>Ama Qamata, Khosi Ngema, Gail Mabalane, Thaban...</td>\n",
              "      <td>South Africa</td>\n",
              "      <td>September 24, 2021</td>\n",
              "      <td>2021</td>\n",
              "      <td>TV-MA</td>\n",
              "      <td>2 Seasons</td>\n",
              "      <td>International TV Shows, TV Dramas, TV Mysteries</td>\n",
              "      <td>After crossing paths at a party, a Cape Town t...</td>\n",
              "    </tr>\n",
              "    <tr>\n",
              "      <th>2</th>\n",
              "      <td>s3</td>\n",
              "      <td>TV Show</td>\n",
              "      <td>Ganglands</td>\n",
              "      <td>Julien Leclercq</td>\n",
              "      <td>Sami Bouajila, Tracy Gotoas, Samuel Jouy, Nabi...</td>\n",
              "      <td>NaN</td>\n",
              "      <td>September 24, 2021</td>\n",
              "      <td>2021</td>\n",
              "      <td>TV-MA</td>\n",
              "      <td>1 Season</td>\n",
              "      <td>Crime TV Shows, International TV Shows, TV Act...</td>\n",
              "      <td>To protect his family from a powerful drug lor...</td>\n",
              "    </tr>\n",
              "    <tr>\n",
              "      <th>3</th>\n",
              "      <td>s4</td>\n",
              "      <td>TV Show</td>\n",
              "      <td>Jailbirds New Orleans</td>\n",
              "      <td>NaN</td>\n",
              "      <td>NaN</td>\n",
              "      <td>NaN</td>\n",
              "      <td>September 24, 2021</td>\n",
              "      <td>2021</td>\n",
              "      <td>TV-MA</td>\n",
              "      <td>1 Season</td>\n",
              "      <td>Docuseries, Reality TV</td>\n",
              "      <td>Feuds, flirtations and toilet talk go down amo...</td>\n",
              "    </tr>\n",
              "    <tr>\n",
              "      <th>4</th>\n",
              "      <td>s5</td>\n",
              "      <td>TV Show</td>\n",
              "      <td>Kota Factory</td>\n",
              "      <td>NaN</td>\n",
              "      <td>Mayur More, Jitendra Kumar, Ranjan Raj, Alam K...</td>\n",
              "      <td>India</td>\n",
              "      <td>September 24, 2021</td>\n",
              "      <td>2021</td>\n",
              "      <td>TV-MA</td>\n",
              "      <td>2 Seasons</td>\n",
              "      <td>International TV Shows, Romantic TV Shows, TV ...</td>\n",
              "      <td>In a city of coaching centers known to train I...</td>\n",
              "    </tr>\n",
              "  </tbody>\n",
              "</table>\n",
              "</div>"
            ],
            "text/plain": [
              "  show_id  ...                                        description\n",
              "0      s1  ...  As her father nears the end of his life, filmm...\n",
              "1      s2  ...  After crossing paths at a party, a Cape Town t...\n",
              "2      s3  ...  To protect his family from a powerful drug lor...\n",
              "3      s4  ...  Feuds, flirtations and toilet talk go down amo...\n",
              "4      s5  ...  In a city of coaching centers known to train I...\n",
              "\n",
              "[5 rows x 12 columns]"
            ]
          },
          "metadata": {},
          "execution_count": 138
        }
      ]
    },
    {
      "cell_type": "code",
      "metadata": {
        "colab": {
          "base_uri": "https://localhost:8080/"
        },
        "id": "VmOerQJnOvOR",
        "outputId": "825f0cf4-ed7b-46e3-a9fe-a910f32c9083"
      },
      "source": [
        "netflix.shape"
      ],
      "execution_count": 139,
      "outputs": [
        {
          "output_type": "execute_result",
          "data": {
            "text/plain": [
              "(8807, 12)"
            ]
          },
          "metadata": {},
          "execution_count": 139
        }
      ]
    },
    {
      "cell_type": "code",
      "metadata": {
        "id": "Fu00WobXPXv9"
      },
      "source": [
        "df= netflix.copy()"
      ],
      "execution_count": 140,
      "outputs": []
    },
    {
      "cell_type": "code",
      "metadata": {
        "colab": {
          "base_uri": "https://localhost:8080/"
        },
        "id": "5NaPmUxDPgeq",
        "outputId": "0138059b-ffa0-4891-b54f-5d6dd5996b5d"
      },
      "source": [
        "df.info()"
      ],
      "execution_count": 141,
      "outputs": [
        {
          "output_type": "stream",
          "name": "stdout",
          "text": [
            "<class 'pandas.core.frame.DataFrame'>\n",
            "RangeIndex: 8807 entries, 0 to 8806\n",
            "Data columns (total 12 columns):\n",
            " #   Column        Non-Null Count  Dtype \n",
            "---  ------        --------------  ----- \n",
            " 0   show_id       8807 non-null   object\n",
            " 1   type          8807 non-null   object\n",
            " 2   title         8807 non-null   object\n",
            " 3   director      6173 non-null   object\n",
            " 4   cast          7982 non-null   object\n",
            " 5   country       7976 non-null   object\n",
            " 6   date_added    8797 non-null   object\n",
            " 7   release_year  8807 non-null   int64 \n",
            " 8   rating        8803 non-null   object\n",
            " 9   duration      8804 non-null   object\n",
            " 10  listed_in     8807 non-null   object\n",
            " 11  description   8807 non-null   object\n",
            "dtypes: int64(1), object(11)\n",
            "memory usage: 825.8+ KB\n"
          ]
        }
      ]
    },
    {
      "cell_type": "code",
      "metadata": {
        "colab": {
          "base_uri": "https://localhost:8080/"
        },
        "id": "TV9WGkJqPgYB",
        "outputId": "3e723dbe-5f04-4ab1-c4c6-fc1c819577da"
      },
      "source": [
        "df.isnull().sum()"
      ],
      "execution_count": 142,
      "outputs": [
        {
          "output_type": "execute_result",
          "data": {
            "text/plain": [
              "show_id            0\n",
              "type               0\n",
              "title              0\n",
              "director        2634\n",
              "cast             825\n",
              "country          831\n",
              "date_added        10\n",
              "release_year       0\n",
              "rating             4\n",
              "duration           3\n",
              "listed_in          0\n",
              "description        0\n",
              "dtype: int64"
            ]
          },
          "metadata": {},
          "execution_count": 142
        }
      ]
    },
    {
      "cell_type": "markdown",
      "metadata": {
        "id": "a5kOjRH9UMLh"
      },
      "source": [
        "Some of the date values are null, which will be encountered later."
      ]
    },
    {
      "cell_type": "markdown",
      "metadata": {
        "id": "0zdbpD6le9vH"
      },
      "source": [
        "##**Exploratory Data Analysis of the dataset**"
      ]
    },
    {
      "cell_type": "code",
      "metadata": {
        "execution": {
          "iopub.status.busy": "2021-10-21T18:21:43.245936Z",
          "iopub.execute_input": "2021-10-21T18:21:43.246166Z",
          "iopub.status.idle": "2021-10-21T18:21:43.493577Z",
          "shell.execute_reply.started": "2021-10-21T18:21:43.246138Z",
          "shell.execute_reply": "2021-10-21T18:21:43.492876Z"
        },
        "trusted": true,
        "colab": {
          "base_uri": "https://localhost:8080/",
          "height": 427
        },
        "id": "HnTrff6qNGzI",
        "outputId": "3b53e230-7b3f-4f29-fa8f-5ce79de24f08"
      },
      "source": [
        "plt.figure(figsize=(10,7))\n",
        "df['type'].value_counts().plot(kind='pie',autopct='%.0f%%')"
      ],
      "execution_count": 143,
      "outputs": [
        {
          "output_type": "execute_result",
          "data": {
            "text/plain": [
              "<matplotlib.axes._subplots.AxesSubplot at 0x7f1d419fec50>"
            ]
          },
          "metadata": {},
          "execution_count": 143
        },
        {
          "output_type": "display_data",
          "data": {
            "image/png": "[encoded data removed]",
            "text/plain": [
              "<Figure size 720x504 with 1 Axes>"
            ]
          },
          "metadata": {}
        }
      ]
    },
    {
      "cell_type": "markdown",
      "metadata": {
        "id": "6nwknfbANGzJ"
      },
      "source": [
        "So, the majority of content on netflix is movies."
      ]
    },
    {
      "cell_type": "code",
      "metadata": {
        "colab": {
          "base_uri": "https://localhost:8080/"
        },
        "id": "OCm44Y-tRx0B",
        "outputId": "492ab30b-04b3-4510-b4c3-da6e5406a88d"
      },
      "source": [
        "#total number of movies directed by various directors\n",
        "df['director'].value_counts()"
      ],
      "execution_count": 144,
      "outputs": [
        {
          "output_type": "execute_result",
          "data": {
            "text/plain": [
              "Rajiv Chilaka                      19\n",
              "Raúl Campos, Jan Suter             18\n",
              "Suhas Kadav                        16\n",
              "Marcus Raboy                       16\n",
              "Jay Karas                          14\n",
              "                                   ..\n",
              "Helena Coan                         1\n",
              "Raj Kanwar                          1\n",
              "Travon Free, Martin Desmond Roe     1\n",
              "Tarek Al Eryan                      1\n",
              "Doug Hamilton                       1\n",
              "Name: director, Length: 4528, dtype: int64"
            ]
          },
          "metadata": {},
          "execution_count": 144
        }
      ]
    },
    {
      "cell_type": "code",
      "metadata": {
        "execution": {
          "iopub.status.busy": "2021-10-21T18:21:43.979917Z",
          "iopub.status.idle": "2021-10-21T18:21:43.980213Z",
          "shell.execute_reply.started": "2021-10-21T18:21:43.980061Z",
          "shell.execute_reply": "2021-10-21T18:21:43.980077Z"
        },
        "trusted": true,
        "colab": {
          "base_uri": "https://localhost:8080/",
          "height": 380
        },
        "id": "kAHS6gLVNGzN",
        "outputId": "47b1e542-df08-4aaf-f1e3-a056144a8032"
      },
      "source": [
        "country = df['country'].value_counts()[:10]\n",
        "country.plot(kind='bar',title='Number of movies over the years')"
      ],
      "execution_count": 145,
      "outputs": [
        {
          "output_type": "execute_result",
          "data": {
            "text/plain": [
              "<matplotlib.axes._subplots.AxesSubplot at 0x7f1d416983d0>"
            ]
          },
          "metadata": {},
          "execution_count": 145
        },
        {
          "output_type": "display_data",
          "data": {
            "image/png": "[encoded data removed]",
            "text/plain": [
              "<Figure size 432x288 with 1 Axes>"
            ]
          },
          "metadata": {}
        }
      ]
    },
    {
      "cell_type": "markdown",
      "metadata": {
        "id": "2jvJ_BYoNGzN"
      },
      "source": [
        "United States is the top content creator followed by India, with Egypt and Mexico being the least among the list of top 10 content creating countries."
      ]
    },
    {
      "cell_type": "code",
      "metadata": {
        "execution": {
          "iopub.status.busy": "2021-10-21T18:21:43.980976Z",
          "iopub.status.idle": "2021-10-21T18:21:43.981977Z",
          "shell.execute_reply.started": "2021-10-21T18:21:43.981774Z",
          "shell.execute_reply": "2021-10-21T18:21:43.981814Z"
        },
        "trusted": true,
        "colab": {
          "base_uri": "https://localhost:8080/",
          "height": 379
        },
        "id": "YwDBHPb9NGzO",
        "outputId": "c12f9d21-a9bb-4055-c959-1d1e5b1cb515"
      },
      "source": [
        "plt.figure(figsize=(20,5))\n",
        "\n",
        "for i in range(len(country.index)):\n",
        "    plt.subplot(2,5,i+1)\n",
        "    moviesvsshows = df[df['country'] == country.index[i]]\n",
        "    moviesvsshows = moviesvsshows['type'].value_counts()\n",
        "    moviesvsshows.plot(kind='bar')\n",
        "    plt.title(\"Movies vs Shows in {}\".format(country.index[i]))\n",
        "    plt.xticks(rotation = 360)\n",
        "    \n",
        "plt.tight_layout(pad=0.5)"
      ],
      "execution_count": 146,
      "outputs": [
        {
          "output_type": "display_data",
          "data": {
            "image/png": "[encoded data removed]",
            "text/plain": [
              "<Figure size 1440x360 with 10 Axes>"
            ]
          },
          "metadata": {}
        }
      ]
    },
    {
      "cell_type": "markdown",
      "metadata": {
        "id": "10UQqahbNGzO"
      },
      "source": [
        "Diving deeper into the data of number of movies and TV shows created in various countries, we can see that countries like India and Egypt contribute more movies than TV shows. Although, United States of America and India are the biggest content contributor, we observe United Kingdom, Japan, South Korea offer more TV Shows compared to their contribution in Movies.\n",
        "\n"
      ]
    },
    {
      "cell_type": "code",
      "metadata": {
        "execution": {
          "iopub.status.busy": "2021-10-21T18:22:16.595617Z",
          "iopub.execute_input": "2021-10-21T18:22:16.596311Z",
          "iopub.status.idle": "2021-10-21T18:22:16.950547Z",
          "shell.execute_reply.started": "2021-10-21T18:22:16.596265Z",
          "shell.execute_reply": "2021-10-21T18:22:16.949882Z"
        },
        "trusted": true,
        "colab": {
          "base_uri": "https://localhost:8080/",
          "height": 613
        },
        "id": "81zJ7CFMNGzL",
        "outputId": "2f551b5d-8241-4004-b595-b1ac12508a76"
      },
      "source": [
        "plt.figure(figsize=(10,10))\n",
        "sns.set(style=\"darkgrid\")\n",
        "ax = sns.countplot(x='release_year', data=df_netflix, palette=\"Set2\", order=df['release_year'].value_counts().index[:15])"
      ],
      "execution_count": 147,
      "outputs": [
        {
          "output_type": "display_data",
          "data": {
            "image/png": "[encoded data removed]",
            "text/plain": [
              "<Figure size 720x720 with 1 Axes>"
            ]
          },
          "metadata": {}
        }
      ]
    },
    {
      "cell_type": "markdown",
      "metadata": {
        "id": "0d5iRfdkNGzL"
      },
      "source": [
        "Less number of movies & TV shows have been added till 2014(starting from 2006). The number rose after the year 2015."
      ]
    },
    {
      "cell_type": "code",
      "metadata": {
        "execution": {
          "iopub.status.busy": "2021-10-21T18:21:43.494545Z",
          "iopub.execute_input": "2021-10-21T18:21:43.494971Z",
          "iopub.status.idle": "2021-10-21T18:21:43.949604Z",
          "shell.execute_reply.started": "2021-10-21T18:21:43.494929Z",
          "shell.execute_reply": "2021-10-21T18:21:43.948758Z"
        },
        "trusted": true,
        "colab": {
          "base_uri": "https://localhost:8080/",
          "height": 349
        },
        "id": "7KARQJJ0NGzK",
        "outputId": "28f94889-ab9e-4881-e113-e4d6889751e6"
      },
      "source": [
        "sns.countplot(x='rating',data=df, hue='type')\n",
        "plt.xticks(rotation = 45)"
      ],
      "execution_count": 148,
      "outputs": [
        {
          "output_type": "execute_result",
          "data": {
            "text/plain": [
              "(array([ 0,  1,  2,  3,  4,  5,  6,  7,  8,  9, 10, 11, 12, 13, 14, 15, 16]),\n",
              " <a list of 17 Text major ticklabel objects>)"
            ]
          },
          "metadata": {},
          "execution_count": 148
        },
        {
          "output_type": "display_data",
          "data": {
            "image/png": "[encoded data removed]",
            "text/plain": [
              "<Figure size 432x288 with 1 Axes>"
            ]
          },
          "metadata": {}
        }
      ]
    },
    {
      "cell_type": "markdown",
      "metadata": {
        "id": "ABxqtEfXNGzL"
      },
      "source": [
        "It can be inferred that Netflix mostly targets older/mature audience as there are several contents whether movies or tv shows rated as \"TV Mature Audience (TV-MA)\". This is followed by content for children less than age of 14, which is indicated by \"TV-14\""
      ]
    },
    {
      "cell_type": "code",
      "metadata": {
        "execution": {
          "iopub.status.busy": "2021-10-21T18:21:43.978192Z",
          "iopub.status.idle": "2021-10-21T18:21:43.979002Z",
          "shell.execute_reply.started": "2021-10-21T18:21:43.978773Z",
          "shell.execute_reply": "2021-10-21T18:21:43.978817Z"
        },
        "trusted": true,
        "colab": {
          "base_uri": "https://localhost:8080/",
          "height": 312
        },
        "id": "LV9-nusRNGzM",
        "outputId": "365d6a24-f48c-4acc-852b-9b039117a867"
      },
      "source": [
        "plt.subplot(1,2,1)\n",
        "movies_duration = df[df['type'] == \"Movie\"]\n",
        "movies_duration = movies_duration['duration'].value_counts()[:10]\n",
        "movies_duration.plot(kind='bar',title='Number of movies over the years')\n",
        "plt.xlabel(\"Duration\")\n",
        "plt.title(\"Top 10 Movie duration\")\n",
        "plt.xticks(rotation = 45)\n",
        "\n",
        "plt.subplot(1,2,2)\n",
        "show_duration = df[df['type'] == \"TV Show\"]\n",
        "show_duration = show_duration['duration'].value_counts()[:10]\n",
        "show_duration.plot(kind='bar',title='Number of movies over the years')\n",
        "plt.xlabel(\"Seasons\")\n",
        "plt.title(\"Top 10 TV Shows seasons\")\n",
        "plt.xticks(rotation = 45)\n",
        "\n",
        "plt.tight_layout(pad=0.3)"
      ],
      "execution_count": 149,
      "outputs": [
        {
          "output_type": "display_data",
          "data": {
            "image/png": "[encoded data removed]",
            "text/plain": [
              "<Figure size 432x288 with 2 Axes>"
            ]
          },
          "metadata": {}
        }
      ]
    },
    {
      "cell_type": "markdown",
      "metadata": {
        "id": "K9hjYVRWNGzM"
      },
      "source": [
        "For above mentioned data of 'Top 10 movies duration', the length of each movie is mostly above 1 and a half hour, whereas a large number of TV Shows are to be limited series of 1 season compared to others."
      ]
    },
    {
      "cell_type": "code",
      "metadata": {
        "execution": {
          "iopub.status.busy": "2021-10-21T18:21:43.982850Z",
          "iopub.status.idle": "2021-10-21T18:21:43.983560Z",
          "shell.execute_reply.started": "2021-10-21T18:21:43.983382Z",
          "shell.execute_reply": "2021-10-21T18:21:43.983401Z"
        },
        "trusted": true,
        "colab": {
          "base_uri": "https://localhost:8080/",
          "height": 301
        },
        "id": "07BIspoJNGzO",
        "outputId": "393a1a2d-49df-4b96-a6a3-a8c6272295ed"
      },
      "source": [
        "genre = df[\"listed_in\"].value_counts()[:10]\n",
        "genre.plot(kind='barh',title='Genre of movies over the years')"
      ],
      "execution_count": 150,
      "outputs": [
        {
          "output_type": "execute_result",
          "data": {
            "text/plain": [
              "<matplotlib.axes._subplots.AxesSubplot at 0x7f1d40c89ed0>"
            ]
          },
          "metadata": {},
          "execution_count": 150
        },
        {
          "output_type": "display_data",
          "data": {
            "image/png": "[encoded data removed]",
            "text/plain": [
              "<Figure size 432x288 with 1 Axes>"
            ]
          },
          "metadata": {}
        }
      ]
    },
    {
      "cell_type": "markdown",
      "metadata": {
        "id": "28JHvu9MNGzP"
      },
      "source": [
        "Netflix offers a large number of Dramas and International Movies, Documentaries and Standup comedies as compared to other genres. "
      ]
    },
    {
      "cell_type": "markdown",
      "metadata": {
        "id": "Y7sMyGL6NGzP"
      },
      "source": [
        "#### **Summary of the Analysis:**\n",
        "1. In many countries OTT platforms don’t come under government censorship, thus Netflix one of such OTT platforms offers majority content catering to their \"The Mature Audience\".\n",
        "2. Netflix offered few movies between the years 2008 - 2015, before adding a vast range thereafter.\n",
        "3. Several TV Shows had been added between 2017 - 2019, probably to cater to the increasing demand and fascination revolving around TV Shows.\n",
        "4. It can be inferred that Netflix mostly targets older/mature audience as there are several contents whether movies or tv shows rated as \"TV Mature Audience (TV-MA)\". This is followed by content for children less than age of 14, which is indicated by \"TV-14\"\n",
        "5. Among the 'Top 10 movies duration', the length of each movie is mostly above 1 and a half hour, whereas a large number of TV Shows are to be limited series of 1 season compared to others.\n",
        "6. United States is the top content creator followed by India, with Egypt and Mexico being the least among the list of top 10 content creating countries.\n",
        "7. Countries like India and Egypt contribute more movies than TV shows. Although The United States of America and India are the biggest content contributor, we observe United Kingdom, Japan, South Korea offer more TV Shows compared to their contribution in Movies.\n",
        "8. Majority of content on Netflix is Dramas and International Movies, Documentaries and Standup comedies."
      ]
    },
    {
      "cell_type": "code",
      "metadata": {
        "colab": {
          "base_uri": "https://localhost:8080/",
          "height": 202
        },
        "id": "s46t7P3TPgPw",
        "outputId": "29d62141-211f-430b-c404-86cc81512513"
      },
      "source": [
        "#creating a separate dataframe for descriptions of the content\n",
        "df0= df[['title','director','cast','listed_in','description']]\n",
        "df0.head()"
      ],
      "execution_count": 151,
      "outputs": [
        {
          "output_type": "execute_result",
          "data": {
            "text/html": [
              "<div>\n",
              "<style scoped>\n",
              "    .dataframe tbody tr th:only-of-type {\n",
              "        vertical-align: middle;\n",
              "    }\n",
              "\n",
              "    .dataframe tbody tr th {\n",
              "        vertical-align: top;\n",
              "    }\n",
              "\n",
              "    .dataframe thead th {\n",
              "        text-align: right;\n",
              "    }\n",
              "</style>\n",
              "<table border=\"1\" class=\"dataframe\">\n",
              "  <thead>\n",
              "    <tr style=\"text-align: right;\">\n",
              "      <th></th>\n",
              "      <th>title</th>\n",
              "      <th>director</th>\n",
              "      <th>cast</th>\n",
              "      <th>listed_in</th>\n",
              "      <th>description</th>\n",
              "    </tr>\n",
              "  </thead>\n",
              "  <tbody>\n",
              "    <tr>\n",
              "      <th>0</th>\n",
              "      <td>Dick Johnson Is Dead</td>\n",
              "      <td>Kirsten Johnson</td>\n",
              "      <td>NaN</td>\n",
              "      <td>Documentaries</td>\n",
              "      <td>As her father nears the end of his life, filmm...</td>\n",
              "    </tr>\n",
              "    <tr>\n",
              "      <th>1</th>\n",
              "      <td>Blood &amp; Water</td>\n",
              "      <td>NaN</td>\n",
              "      <td>Ama Qamata, Khosi Ngema, Gail Mabalane, Thaban...</td>\n",
              "      <td>International TV Shows, TV Dramas, TV Mysteries</td>\n",
              "      <td>After crossing paths at a party, a Cape Town t...</td>\n",
              "    </tr>\n",
              "    <tr>\n",
              "      <th>2</th>\n",
              "      <td>Ganglands</td>\n",
              "      <td>Julien Leclercq</td>\n",
              "      <td>Sami Bouajila, Tracy Gotoas, Samuel Jouy, Nabi...</td>\n",
              "      <td>Crime TV Shows, International TV Shows, TV Act...</td>\n",
              "      <td>To protect his family from a powerful drug lor...</td>\n",
              "    </tr>\n",
              "    <tr>\n",
              "      <th>3</th>\n",
              "      <td>Jailbirds New Orleans</td>\n",
              "      <td>NaN</td>\n",
              "      <td>NaN</td>\n",
              "      <td>Docuseries, Reality TV</td>\n",
              "      <td>Feuds, flirtations and toilet talk go down amo...</td>\n",
              "    </tr>\n",
              "    <tr>\n",
              "      <th>4</th>\n",
              "      <td>Kota Factory</td>\n",
              "      <td>NaN</td>\n",
              "      <td>Mayur More, Jitendra Kumar, Ranjan Raj, Alam K...</td>\n",
              "      <td>International TV Shows, Romantic TV Shows, TV ...</td>\n",
              "      <td>In a city of coaching centers known to train I...</td>\n",
              "    </tr>\n",
              "  </tbody>\n",
              "</table>\n",
              "</div>"
            ],
            "text/plain": [
              "                   title  ...                                        description\n",
              "0   Dick Johnson Is Dead  ...  As her father nears the end of his life, filmm...\n",
              "1          Blood & Water  ...  After crossing paths at a party, a Cape Town t...\n",
              "2              Ganglands  ...  To protect his family from a powerful drug lor...\n",
              "3  Jailbirds New Orleans  ...  Feuds, flirtations and toilet talk go down amo...\n",
              "4           Kota Factory  ...  In a city of coaching centers known to train I...\n",
              "\n",
              "[5 rows x 5 columns]"
            ]
          },
          "metadata": {},
          "execution_count": 151
        }
      ]
    },
    {
      "cell_type": "code",
      "metadata": {
        "colab": {
          "base_uri": "https://localhost:8080/"
        },
        "id": "shTx5Y6jX9TV",
        "outputId": "a3145da9-bb5e-4492-fc4e-e167b9ac29fe"
      },
      "source": [
        "df0.isnull().sum()"
      ],
      "execution_count": 152,
      "outputs": [
        {
          "output_type": "execute_result",
          "data": {
            "text/plain": [
              "title             0\n",
              "director       2634\n",
              "cast            825\n",
              "listed_in         0\n",
              "description       0\n",
              "dtype: int64"
            ]
          },
          "metadata": {},
          "execution_count": 152
        }
      ]
    },
    {
      "cell_type": "markdown",
      "metadata": {
        "id": "7jC2YZxiYDhN"
      },
      "source": [
        "Since the 'director' and 'cast' columns have considerable number of null values, we can replace them with a common string like 'Unknown' as done below."
      ]
    },
    {
      "cell_type": "code",
      "metadata": {
        "colab": {
          "base_uri": "https://localhost:8080/"
        },
        "id": "-JP4ZtHLX9MT",
        "outputId": "12596988-b714-4cd7-eda2-f3d1d7f43284"
      },
      "source": [
        "df0['director'].replace(np.nan,'unknown',inplace=True)\n",
        "df0['cast'].replace(np.nan,'unknown',inplace=True)"
      ],
      "execution_count": 153,
      "outputs": [
        {
          "output_type": "stream",
          "name": "stderr",
          "text": [
            "/usr/local/lib/python3.7/dist-packages/pandas/core/series.py:4582: SettingWithCopyWarning: \n",
            "A value is trying to be set on a copy of a slice from a DataFrame\n",
            "\n",
            "See the caveats in the documentation: https://pandas.pydata.org/pandas-docs/stable/user_guide/indexing.html#returning-a-view-versus-a-copy\n",
            "  method=method,\n"
          ]
        }
      ]
    },
    {
      "cell_type": "code",
      "metadata": {
        "colab": {
          "base_uri": "https://localhost:8080/"
        },
        "id": "QfmJ973WYhk5",
        "outputId": "53bf6db0-2388-4c83-d32e-b785fe864cb8"
      },
      "source": [
        "#to replace the commas in cast column with a space\n",
        "df0['cast'] = df0['cast'].str.replace(', ',' ')"
      ],
      "execution_count": 154,
      "outputs": [
        {
          "output_type": "stream",
          "name": "stderr",
          "text": [
            "/usr/local/lib/python3.7/dist-packages/ipykernel_launcher.py:2: SettingWithCopyWarning: \n",
            "A value is trying to be set on a copy of a slice from a DataFrame.\n",
            "Try using .loc[row_indexer,col_indexer] = value instead\n",
            "\n",
            "See the caveats in the documentation: https://pandas.pydata.org/pandas-docs/stable/user_guide/indexing.html#returning-a-view-versus-a-copy\n",
            "  \n"
          ]
        }
      ]
    },
    {
      "cell_type": "code",
      "metadata": {
        "colab": {
          "base_uri": "https://localhost:8080/"
        },
        "id": "k94RFJ2GY4Nx",
        "outputId": "3790d428-7582-4c9e-e6b4-5d172b286987"
      },
      "source": [
        "#to replace the commas in genre (listed_in) column with a space\n",
        "df0['listed_in'] = df0['listed_in'].str.replace(', ',' ')"
      ],
      "execution_count": 155,
      "outputs": [
        {
          "output_type": "stream",
          "name": "stderr",
          "text": [
            "/usr/local/lib/python3.7/dist-packages/ipykernel_launcher.py:2: SettingWithCopyWarning: \n",
            "A value is trying to be set on a copy of a slice from a DataFrame.\n",
            "Try using .loc[row_indexer,col_indexer] = value instead\n",
            "\n",
            "See the caveats in the documentation: https://pandas.pydata.org/pandas-docs/stable/user_guide/indexing.html#returning-a-view-versus-a-copy\n",
            "  \n"
          ]
        }
      ]
    },
    {
      "cell_type": "code",
      "metadata": {
        "id": "jyTLEe3BZuJC"
      },
      "source": [
        "#to create a separate dataframe without description column in it\n",
        "df0_wo_des = df0.drop(['description'],axis=1)"
      ],
      "execution_count": 156,
      "outputs": []
    },
    {
      "cell_type": "code",
      "metadata": {
        "colab": {
          "base_uri": "https://localhost:8080/"
        },
        "id": "-GoZIbcmaauq",
        "outputId": "79dc42f9-d8db-4d9c-a348-9d0f88684fe1"
      },
      "source": [
        "df0['combined'] = df0['title'] + ' ' + df0['director'] + ' ' + df0['cast'] + ' ' + df0['listed_in'] + ' ' + df0['description']\n",
        "df0_wo_des['combined'] = df0_wo_des['title'] + ' ' + df0_wo_des['director'] + ' ' + df0_wo_des['cast'] + ' ' + df0_wo_des['listed_in']"
      ],
      "execution_count": 157,
      "outputs": [
        {
          "output_type": "stream",
          "name": "stderr",
          "text": [
            "/usr/local/lib/python3.7/dist-packages/ipykernel_launcher.py:1: SettingWithCopyWarning: \n",
            "A value is trying to be set on a copy of a slice from a DataFrame.\n",
            "Try using .loc[row_indexer,col_indexer] = value instead\n",
            "\n",
            "See the caveats in the documentation: https://pandas.pydata.org/pandas-docs/stable/user_guide/indexing.html#returning-a-view-versus-a-copy\n",
            "  \"\"\"Entry point for launching an IPython kernel.\n"
          ]
        }
      ]
    },
    {
      "cell_type": "code",
      "metadata": {
        "colab": {
          "base_uri": "https://localhost:8080/"
        },
        "id": "Z2m3hWEWaSXI",
        "outputId": "481ab4c3-614b-4626-98c2-a360fa785804"
      },
      "source": [
        "df0.drop(['cast','director','listed_in','description'],axis=1,inplace=True, errors='ignore')"
      ],
      "execution_count": 158,
      "outputs": [
        {
          "output_type": "stream",
          "name": "stderr",
          "text": [
            "/usr/local/lib/python3.7/dist-packages/pandas/core/frame.py:4174: SettingWithCopyWarning: \n",
            "A value is trying to be set on a copy of a slice from a DataFrame\n",
            "\n",
            "See the caveats in the documentation: https://pandas.pydata.org/pandas-docs/stable/user_guide/indexing.html#returning-a-view-versus-a-copy\n",
            "  errors=errors,\n"
          ]
        }
      ]
    },
    {
      "cell_type": "code",
      "metadata": {
        "colab": {
          "base_uri": "https://localhost:8080/",
          "height": 202
        },
        "id": "x7HKbI_HbsSE",
        "outputId": "47d626ca-bf96-4d48-e399-9f0f3a79e4e0"
      },
      "source": [
        "df0.head()"
      ],
      "execution_count": 159,
      "outputs": [
        {
          "output_type": "execute_result",
          "data": {
            "text/html": [
              "<div>\n",
              "<style scoped>\n",
              "    .dataframe tbody tr th:only-of-type {\n",
              "        vertical-align: middle;\n",
              "    }\n",
              "\n",
              "    .dataframe tbody tr th {\n",
              "        vertical-align: top;\n",
              "    }\n",
              "\n",
              "    .dataframe thead th {\n",
              "        text-align: right;\n",
              "    }\n",
              "</style>\n",
              "<table border=\"1\" class=\"dataframe\">\n",
              "  <thead>\n",
              "    <tr style=\"text-align: right;\">\n",
              "      <th></th>\n",
              "      <th>title</th>\n",
              "      <th>combined</th>\n",
              "    </tr>\n",
              "  </thead>\n",
              "  <tbody>\n",
              "    <tr>\n",
              "      <th>0</th>\n",
              "      <td>Dick Johnson Is Dead</td>\n",
              "      <td>Dick Johnson Is Dead Kirsten Johnson unknown D...</td>\n",
              "    </tr>\n",
              "    <tr>\n",
              "      <th>1</th>\n",
              "      <td>Blood &amp; Water</td>\n",
              "      <td>Blood &amp; Water unknown Ama Qamata Khosi Ngema G...</td>\n",
              "    </tr>\n",
              "    <tr>\n",
              "      <th>2</th>\n",
              "      <td>Ganglands</td>\n",
              "      <td>Ganglands Julien Leclercq Sami Bouajila Tracy ...</td>\n",
              "    </tr>\n",
              "    <tr>\n",
              "      <th>3</th>\n",
              "      <td>Jailbirds New Orleans</td>\n",
              "      <td>Jailbirds New Orleans unknown unknown Docuseri...</td>\n",
              "    </tr>\n",
              "    <tr>\n",
              "      <th>4</th>\n",
              "      <td>Kota Factory</td>\n",
              "      <td>Kota Factory unknown Mayur More Jitendra Kumar...</td>\n",
              "    </tr>\n",
              "  </tbody>\n",
              "</table>\n",
              "</div>"
            ],
            "text/plain": [
              "                   title                                           combined\n",
              "0   Dick Johnson Is Dead  Dick Johnson Is Dead Kirsten Johnson unknown D...\n",
              "1          Blood & Water  Blood & Water unknown Ama Qamata Khosi Ngema G...\n",
              "2              Ganglands  Ganglands Julien Leclercq Sami Bouajila Tracy ...\n",
              "3  Jailbirds New Orleans  Jailbirds New Orleans unknown unknown Docuseri...\n",
              "4           Kota Factory  Kota Factory unknown Mayur More Jitendra Kumar..."
            ]
          },
          "metadata": {},
          "execution_count": 159
        }
      ]
    },
    {
      "cell_type": "markdown",
      "metadata": {
        "id": "UFYtTYC9b17R"
      },
      "source": [
        "Hence, the above dataframe  now consist of all the attributes of a movie in one column and the title in another column.\n",
        "This will be useful in recommendation system process."
      ]
    },
    {
      "cell_type": "markdown",
      "metadata": {
        "id": "krn-c5Hld_lz"
      },
      "source": [
        "##**Recommendation System**"
      ]
    },
    {
      "cell_type": "code",
      "metadata": {
        "id": "8TGmYBVocREp"
      },
      "source": [
        "from sklearn.feature_extraction.text import TfidfVectorizer"
      ],
      "execution_count": 160,
      "outputs": []
    },
    {
      "cell_type": "code",
      "metadata": {
        "colab": {
          "base_uri": "https://localhost:8080/"
        },
        "id": "O6KXYISWcRBL",
        "outputId": "b7cf46a3-11bb-4d96-fe22-88525c9c74ff"
      },
      "source": [
        "#removing stopwords\n",
        "tfidf = TfidfVectorizer(stop_words='english')\n",
        "\n",
        "#Construct the required TF-IDF matrix\n",
        "tfidf_matrix = tfidf.fit_transform(df0['combined'].str.lower())\n",
        "\n",
        "tfidf_matrix.shape"
      ],
      "execution_count": 161,
      "outputs": [
        {
          "output_type": "execute_result",
          "data": {
            "text/plain": [
              "(8807, 52938)"
            ]
          },
          "metadata": {},
          "execution_count": 161
        }
      ]
    },
    {
      "cell_type": "code",
      "metadata": {
        "id": "FaHjmNGVckKx"
      },
      "source": [
        "from sklearn.metrics.pairwise import linear_kernel\n",
        "\n",
        "#cosine similarity matrix\n",
        "cosine_sim = linear_kernel(tfidf_matrix, tfidf_matrix)"
      ],
      "execution_count": 162,
      "outputs": []
    },
    {
      "cell_type": "markdown",
      "metadata": {
        "id": "tXT5O1nacx4e"
      },
      "source": [
        "Cosine similarity is a metric used to measure how similar the documents are irrespective of their size."
      ]
    },
    {
      "cell_type": "code",
      "metadata": {
        "colab": {
          "base_uri": "https://localhost:8080/"
        },
        "id": "_z7x6MMjc514",
        "outputId": "67e2975c-a392-4645-9f58-a749b66af203"
      },
      "source": [
        "print(df0.index)"
      ],
      "execution_count": 163,
      "outputs": [
        {
          "output_type": "stream",
          "name": "stdout",
          "text": [
            "RangeIndex(start=0, stop=8807, step=1)\n"
          ]
        }
      ]
    },
    {
      "cell_type": "code",
      "metadata": {
        "id": "ulo9ne1zc5yN"
      },
      "source": [
        "indices = pd.Series(df0.index, index=df0['title']).drop_duplicates()"
      ],
      "execution_count": 164,
      "outputs": []
    },
    {
      "cell_type": "code",
      "metadata": {
        "id": "I2LyHyaodrjY"
      },
      "source": [
        "def get_recommendations(title, cosine_sim=cosine_sim):\n",
        "    try:\n",
        "        idx = indices[title]\n",
        "    except:\n",
        "        return None\n",
        "        \n",
        "    #Get similarity score with all movies\n",
        "    sim_scores = list(enumerate(cosine_sim[idx]))\n",
        "    \n",
        "    # Sort the movies\n",
        "    sim_scores = sorted(sim_scores, key=lambda x: x[1], reverse=True)\n",
        "    \n",
        "    #Top 10 movies. The 0th will be the movie itself\n",
        "    sim_scores = sim_scores[1:11]\n",
        "    \n",
        "    # Get the movie indices\n",
        "    match = [i[0] for i in sim_scores]\n",
        "    score = [i[1] for i in sim_scores]\n",
        "    dictionary = dict(zip(match, score))\n",
        "    \n",
        "    return dictionary"
      ],
      "execution_count": 165,
      "outputs": []
    },
    {
      "cell_type": "code",
      "metadata": {
        "id": "z-zTaCiRc5vz"
      },
      "source": [
        "def recommend(title):\n",
        "    result = get_recommendations(title)\n",
        "  \n",
        "    if result is None:\n",
        "        print(f'{title} not found in database')\n",
        "    else:\n",
        "        print(f'Movie related to {title} are: ')\n",
        "        for i in result:\n",
        "            print(f\"{df0['title'].iloc[i]} with score {result[i]*100:.2f} %\")"
      ],
      "execution_count": 166,
      "outputs": []
    },
    {
      "cell_type": "markdown",
      "metadata": {
        "id": "_VzYCTjdmJaq"
      },
      "source": [
        "Enter recommend('movie name') and get the list of related movies/tv show name to wacth along with the recommendation index."
      ]
    },
    {
      "cell_type": "code",
      "metadata": {
        "colab": {
          "base_uri": "https://localhost:8080/"
        },
        "id": "d-yvMCgbc5tV",
        "outputId": "9308c604-7215-4e24-b55f-98db9c957a7e"
      },
      "source": [
        "recommend('Avengers: Infinity War')"
      ],
      "execution_count": 167,
      "outputs": [
        {
          "output_type": "stream",
          "name": "stdout",
          "text": [
            "Movie related to Avengers: Infinity War are: \n",
            "Thor: Ragnarok with score 16.99 %\n",
            "Black Panther with score 11.27 %\n",
            "Her with score 10.78 %\n",
            "Mark Gatiss: A Study in Sherlock with score 10.73 %\n",
            "War Horse with score 10.42 %\n",
            "The Little Prince with score 9.24 %\n",
            "Chef with score 9.02 %\n",
            "Chris Brown: Welcome to My Life with score 8.37 %\n",
            "Crimson Peak with score 8.27 %\n",
            "Legion with score 8.16 %\n"
          ]
        }
      ]
    },
    {
      "cell_type": "code",
      "metadata": {
        "colab": {
          "base_uri": "https://localhost:8080/"
        },
        "id": "AxNWGH1Jf-MD",
        "outputId": "6e5846d1-d018-4f49-f9bc-e0af388ac7ac"
      },
      "source": [
        "recommend('Rocky')"
      ],
      "execution_count": 168,
      "outputs": [
        {
          "output_type": "stream",
          "name": "stdout",
          "text": [
            "Movie related to Rocky are: \n",
            "Rocky III with score 59.70 %\n",
            "Rocky II with score 58.93 %\n",
            "Rocky IV with score 54.67 %\n",
            "Rocky V with score 45.42 %\n",
            "Spy Kids 3: Game Over with score 12.27 %\n",
            "Cliffhanger with score 10.90 %\n",
            "The Bleeder with score 10.85 %\n",
            "Ratchet and Clank with score 9.86 %\n",
            "Save Our Shelter with score 9.75 %\n",
            "The Karate Kid Part III with score 9.42 %\n"
          ]
        }
      ]
    }
  ]
}